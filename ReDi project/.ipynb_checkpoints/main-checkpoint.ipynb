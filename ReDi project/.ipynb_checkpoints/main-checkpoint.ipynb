{
 "cells": [
  {
   "cell_type": "markdown",
   "id": "e11527b9-ebf1-4581-8518-3f8a7c3bac1f",
   "metadata": {},
   "source": [
    "## Search by two parameters ##"
   ]
  },
  {
   "cell_type": "code",
   "execution_count": 13,
   "id": "2e32b818-d59e-4b47-b0f5-5915a99a5db0",
   "metadata": {
    "tags": []
   },
   "outputs": [
    {
     "name": "stdin",
     "output_type": "stream",
     "text": [
      "enter the search parameter: PFD\n",
      "enter the 2 search parameter: imbibition\n"
     ]
    },
    {
     "name": "stdout",
     "output_type": "stream",
     "text": [
      "Files containing the keyword 'PFD' the keyword 'imbibition with format '.opju':\n",
      "20231103_PFD_615_R_Carb_2_ZOA_carbonclothXcarboncloth_imbibition_unsealed_0-5M-NaCl_with_gravimetry.opju\n",
      "20231106_PFD_588_R_10_Carb_1_ZOA_carbonclothXcarboncloth_imbibition_sealed_0-5M-NaCl_with_gravimetry.opju\n"
     ]
    }
   ],
   "source": [
    "import os\n",
    "\n",
    "def search_files_by_keyword(directory, keyword, keyword2, file_format):\n",
    "    # Get the list of files in the specified directory\n",
    "    file_names = os.listdir(directory)\n",
    "    # Search for the keyword in each file name\n",
    "    matching_files = [file \n",
    "                      for file in file_names \n",
    "                      if (keyword and keyword2) in file and file.endswith(file_format) ] \n",
    "\n",
    "    return matching_files\n",
    "\n",
    "# Example usage\n",
    "directory_path = '/mnt/d/testdata'\n",
    "search_keyword = input('enter the search parameter:')\n",
    "search_keyword2 = input('enter the 2 search parameter:')\n",
    "desired_format = '.opju'  # Specify the desired file format, e.g., '.txt', '.pdf', '.jpg'\n",
    "                      \n",
    "matching_files = search_files_by_keyword(directory_path, search_keyword, search_keyword2, desired_format)\n",
    "\n",
    "if matching_files:\n",
    "    print(f\"Files containing the keyword '{search_keyword}' the keyword '{search_keyword2} with format '{desired_format}':\")\n",
    "    for file in matching_files:\n",
    "        print(file)\n",
    "else:\n",
    "    print(f\"No files found with the keyword '{search_keyword}' and format '{desired_format}'.\")"
   ]
  },
  {
   "cell_type": "markdown",
   "id": "aeb9f240-6605-4d0b-8850-d78c562b0230",
   "metadata": {},
   "source": [
    "Roberto.schmidt@posteo.de"
   ]
  },
  {
   "cell_type": "markdown",
   "id": "f9d5dc30-f9a7-48d8-83f4-21df499b2977",
   "metadata": {},
   "source": [
    "## This part is about reading and searching file names with list of keywords ##"
   ]
  },
  {
   "cell_type": "code",
   "execution_count": 2,
   "id": "9a5a9fde-84a5-4a0f-a711-abb331f10d36",
   "metadata": {},
   "outputs": [
    {
     "name": "stdin",
     "output_type": "stream",
     "text": [
      "Tell me search parameters: PFD 615\n"
     ]
    },
    {
     "name": "stdout",
     "output_type": "stream",
     "text": [
      "Files containing the keyword '['PFD', '615']' with format '.txt':\n",
      "20231103_PFD_615_R_Carb_2_ZOA_carbonclothXcarboncloth_imbibition_unsealed_0-5M-NaCl_with_gravimetry.txt\n"
     ]
    }
   ],
   "source": [
    "import os\n",
    "import pandas as pd\n",
    "\n",
    "def search_files_by_keyword(directory, keywords, file_format):\n",
    "    # Get the list of files in the specified directory\n",
    "    file_names = os.listdir(directory)\n",
    "    \n",
    "      \n",
    "    # Search for the keyword in each file name\n",
    "    matching_files = [file #return file\n",
    "                      for file in file_names # listing files in directory\n",
    "                      if all(keyword in file for keyword in keywords) and file.endswith(file_format) # searching for all keywords\n",
    "] \n",
    "\n",
    "    return matching_files\n",
    "\n",
    "\n",
    "directory_path = '/mnt/d/testdata'\n",
    "search_keyword = input('Tell me search parameters:').split(' ')\n",
    "desired_format = '.txt'  # Specify the desired file format, e.g., '.txt', '.pdf', '.jpg'\n",
    "                      \n",
    "matching_files = search_files_by_keyword(directory_path, search_keyword, desired_format)\n",
    "\n",
    "if matching_files:\n",
    "    print(f\"Files containing the keyword '{search_keyword}' with format '{desired_format}':\")\n",
    "    for file in matching_files:\n",
    "        print(file)\n",
    "        \n",
    "else:\n",
    "    print(f\"No files found with the keyword '{search_keyword}' and format '{desired_format}'.\")\n",
    "    "
   ]
  },
  {
   "cell_type": "markdown",
   "id": "e8a8a5d3-9890-4ce1-bce5-33159eddc3fc",
   "metadata": {},
   "source": [
    "## This part is about data processing ##"
   ]
  },
  {
   "cell_type": "code",
   "execution_count": 44,
   "id": "5ea89ec8-f739-426f-af37-54859f4930ba",
   "metadata": {
    "tags": []
   },
   "outputs": [
    {
     "data": {
      "text/html": [
       "<div>\n",
       "<style scoped>\n",
       "    .dataframe tbody tr th:only-of-type {\n",
       "        vertical-align: middle;\n",
       "    }\n",
       "\n",
       "    .dataframe tbody tr th {\n",
       "        vertical-align: top;\n",
       "    }\n",
       "\n",
       "    .dataframe thead th {\n",
       "        text-align: right;\n",
       "    }\n",
       "</style>\n",
       "<table border=\"1\" class=\"dataframe\">\n",
       "  <thead>\n",
       "    <tr style=\"text-align: right;\">\n",
       "      <th></th>\n",
       "      <th>Time (s)</th>\n",
       "      <th>WE(1).Current (A)</th>\n",
       "      <th>WE(1).Potential (V)</th>\n",
       "      <th>WE(1).Charge (C)</th>\n",
       "      <th>WE(1).Power (W)</th>\n",
       "      <th>Index</th>\n",
       "    </tr>\n",
       "  </thead>\n",
       "  <tbody>\n",
       "    <tr>\n",
       "      <th>0</th>\n",
       "      <td>3.111138</td>\n",
       "      <td>0.000951</td>\n",
       "      <td>-0.017755</td>\n",
       "      <td>0.000000</td>\n",
       "      <td>-1.688926e-05</td>\n",
       "      <td>1</td>\n",
       "    </tr>\n",
       "    <tr>\n",
       "      <th>1</th>\n",
       "      <td>5.111138</td>\n",
       "      <td>0.000872</td>\n",
       "      <td>-0.016843</td>\n",
       "      <td>0.001823</td>\n",
       "      <td>-1.469003e-05</td>\n",
       "      <td>2</td>\n",
       "    </tr>\n",
       "    <tr>\n",
       "      <th>2</th>\n",
       "      <td>7.111138</td>\n",
       "      <td>0.000817</td>\n",
       "      <td>-0.016217</td>\n",
       "      <td>0.003513</td>\n",
       "      <td>-1.324860e-05</td>\n",
       "      <td>3</td>\n",
       "    </tr>\n",
       "    <tr>\n",
       "      <th>3</th>\n",
       "      <td>9.111138</td>\n",
       "      <td>0.000775</td>\n",
       "      <td>-0.015778</td>\n",
       "      <td>0.005105</td>\n",
       "      <td>-1.223476e-05</td>\n",
       "      <td>4</td>\n",
       "    </tr>\n",
       "    <tr>\n",
       "      <th>4</th>\n",
       "      <td>11.111138</td>\n",
       "      <td>0.000741</td>\n",
       "      <td>-0.015421</td>\n",
       "      <td>0.006621</td>\n",
       "      <td>-1.142140e-05</td>\n",
       "      <td>5</td>\n",
       "    </tr>\n",
       "    <tr>\n",
       "      <th>...</th>\n",
       "      <td>...</td>\n",
       "      <td>...</td>\n",
       "      <td>...</td>\n",
       "      <td>...</td>\n",
       "      <td>...</td>\n",
       "      <td>...</td>\n",
       "    </tr>\n",
       "    <tr>\n",
       "      <th>43195</th>\n",
       "      <td>86393.110920</td>\n",
       "      <td>0.000004</td>\n",
       "      <td>-0.046970</td>\n",
       "      <td>0.819110</td>\n",
       "      <td>-1.765804e-07</td>\n",
       "      <td>43196</td>\n",
       "    </tr>\n",
       "    <tr>\n",
       "      <th>43196</th>\n",
       "      <td>86395.110920</td>\n",
       "      <td>0.000004</td>\n",
       "      <td>-0.046927</td>\n",
       "      <td>0.819117</td>\n",
       "      <td>-1.764054e-07</td>\n",
       "      <td>43197</td>\n",
       "    </tr>\n",
       "    <tr>\n",
       "      <th>43197</th>\n",
       "      <td>86397.110920</td>\n",
       "      <td>0.000004</td>\n",
       "      <td>-0.046918</td>\n",
       "      <td>0.819125</td>\n",
       "      <td>-1.762708e-07</td>\n",
       "      <td>43198</td>\n",
       "    </tr>\n",
       "    <tr>\n",
       "      <th>43198</th>\n",
       "      <td>86399.110920</td>\n",
       "      <td>0.000004</td>\n",
       "      <td>-0.046991</td>\n",
       "      <td>0.819132</td>\n",
       "      <td>-1.766033e-07</td>\n",
       "      <td>43199</td>\n",
       "    </tr>\n",
       "    <tr>\n",
       "      <th>43199</th>\n",
       "      <td>86401.110920</td>\n",
       "      <td>0.000004</td>\n",
       "      <td>-0.046979</td>\n",
       "      <td>0.819140</td>\n",
       "      <td>-1.764858e-07</td>\n",
       "      <td>43200</td>\n",
       "    </tr>\n",
       "  </tbody>\n",
       "</table>\n",
       "<p>43200 rows × 6 columns</p>\n",
       "</div>"
      ],
      "text/plain": [
       "           Time (s)  WE(1).Current (A)  WE(1).Potential (V)  WE(1).Charge (C)   \n",
       "0          3.111138           0.000951            -0.017755          0.000000  \\\n",
       "1          5.111138           0.000872            -0.016843          0.001823   \n",
       "2          7.111138           0.000817            -0.016217          0.003513   \n",
       "3          9.111138           0.000775            -0.015778          0.005105   \n",
       "4         11.111138           0.000741            -0.015421          0.006621   \n",
       "...             ...                ...                  ...               ...   \n",
       "43195  86393.110920           0.000004            -0.046970          0.819110   \n",
       "43196  86395.110920           0.000004            -0.046927          0.819117   \n",
       "43197  86397.110920           0.000004            -0.046918          0.819125   \n",
       "43198  86399.110920           0.000004            -0.046991          0.819132   \n",
       "43199  86401.110920           0.000004            -0.046979          0.819140   \n",
       "\n",
       "       WE(1).Power (W)  Index  \n",
       "0        -1.688926e-05      1  \n",
       "1        -1.469003e-05      2  \n",
       "2        -1.324860e-05      3  \n",
       "3        -1.223476e-05      4  \n",
       "4        -1.142140e-05      5  \n",
       "...                ...    ...  \n",
       "43195    -1.765804e-07  43196  \n",
       "43196    -1.764054e-07  43197  \n",
       "43197    -1.762708e-07  43198  \n",
       "43198    -1.766033e-07  43199  \n",
       "43199    -1.764858e-07  43200  \n",
       "\n",
       "[43200 rows x 6 columns]"
      ]
     },
     "execution_count": 44,
     "metadata": {},
     "output_type": "execute_result"
    }
   ],
   "source": [
    "dataset = pd.read_csv(f'/mnt/d/testdata/{file}', delimiter = '\\t') #CAUTION! importing data from LAST file!\n",
    "dataset"
   ]
  },
  {
   "cell_type": "code",
   "execution_count": 23,
   "id": "135b6bfc-ac6f-488a-8356-5b864b57c708",
   "metadata": {
    "tags": []
   },
   "outputs": [
    {
     "data": {
      "text/plain": [
       "Index(['Time (s)', 'WE(1).Current (A)', 'WE(1).Potential (V)',\n",
       "       'WE(1).Charge (C)', 'WE(1).Power (W)', 'Index'],\n",
       "      dtype='object')"
      ]
     },
     "execution_count": 23,
     "metadata": {},
     "output_type": "execute_result"
    }
   ],
   "source": [
    "dataset.columns"
   ]
  },
  {
   "cell_type": "code",
   "execution_count": 45,
   "id": "e1c7fb12-3d25-47f5-a8ad-e82a635c4e03",
   "metadata": {
    "tags": []
   },
   "outputs": [
    {
     "data": {
      "text/html": [
       "<div>\n",
       "<style scoped>\n",
       "    .dataframe tbody tr th:only-of-type {\n",
       "        vertical-align: middle;\n",
       "    }\n",
       "\n",
       "    .dataframe tbody tr th {\n",
       "        vertical-align: top;\n",
       "    }\n",
       "\n",
       "    .dataframe thead th {\n",
       "        text-align: right;\n",
       "    }\n",
       "</style>\n",
       "<table border=\"1\" class=\"dataframe\">\n",
       "  <thead>\n",
       "    <tr style=\"text-align: right;\">\n",
       "      <th></th>\n",
       "      <th>Time (min)</th>\n",
       "      <th>Current (micA)</th>\n",
       "      <th>Potential (V)</th>\n",
       "      <th>Charge (C)</th>\n",
       "      <th>Power (W)</th>\n",
       "    </tr>\n",
       "  </thead>\n",
       "  <tbody>\n",
       "    <tr>\n",
       "      <th>0</th>\n",
       "      <td>0.051852</td>\n",
       "      <td>951.232910</td>\n",
       "      <td>-0.017755</td>\n",
       "      <td>0.000000</td>\n",
       "      <td>-1.688926e-05</td>\n",
       "    </tr>\n",
       "    <tr>\n",
       "      <th>1</th>\n",
       "      <td>0.085186</td>\n",
       "      <td>872.192383</td>\n",
       "      <td>-0.016843</td>\n",
       "      <td>0.001823</td>\n",
       "      <td>-1.469003e-05</td>\n",
       "    </tr>\n",
       "    <tr>\n",
       "      <th>2</th>\n",
       "      <td>0.118519</td>\n",
       "      <td>816.955566</td>\n",
       "      <td>-0.016217</td>\n",
       "      <td>0.003513</td>\n",
       "      <td>-1.324860e-05</td>\n",
       "    </tr>\n",
       "    <tr>\n",
       "      <th>3</th>\n",
       "      <td>0.151852</td>\n",
       "      <td>775.451660</td>\n",
       "      <td>-0.015778</td>\n",
       "      <td>0.005105</td>\n",
       "      <td>-1.223476e-05</td>\n",
       "    </tr>\n",
       "    <tr>\n",
       "      <th>4</th>\n",
       "      <td>0.185186</td>\n",
       "      <td>740.661621</td>\n",
       "      <td>-0.015421</td>\n",
       "      <td>0.006621</td>\n",
       "      <td>-1.142140e-05</td>\n",
       "    </tr>\n",
       "    <tr>\n",
       "      <th>...</th>\n",
       "      <td>...</td>\n",
       "      <td>...</td>\n",
       "      <td>...</td>\n",
       "      <td>...</td>\n",
       "      <td>...</td>\n",
       "    </tr>\n",
       "    <tr>\n",
       "      <th>43195</th>\n",
       "      <td>1439.885182</td>\n",
       "      <td>3.759460</td>\n",
       "      <td>-0.046970</td>\n",
       "      <td>0.819110</td>\n",
       "      <td>-1.765804e-07</td>\n",
       "    </tr>\n",
       "    <tr>\n",
       "      <th>43196</th>\n",
       "      <td>1439.918515</td>\n",
       "      <td>3.759155</td>\n",
       "      <td>-0.046927</td>\n",
       "      <td>0.819117</td>\n",
       "      <td>-1.764054e-07</td>\n",
       "    </tr>\n",
       "    <tr>\n",
       "      <th>43197</th>\n",
       "      <td>1439.951849</td>\n",
       "      <td>3.757019</td>\n",
       "      <td>-0.046918</td>\n",
       "      <td>0.819125</td>\n",
       "      <td>-1.762708e-07</td>\n",
       "    </tr>\n",
       "    <tr>\n",
       "      <th>43198</th>\n",
       "      <td>1439.985182</td>\n",
       "      <td>3.758240</td>\n",
       "      <td>-0.046991</td>\n",
       "      <td>0.819132</td>\n",
       "      <td>-1.766033e-07</td>\n",
       "    </tr>\n",
       "    <tr>\n",
       "      <th>43199</th>\n",
       "      <td>1440.018515</td>\n",
       "      <td>3.756714</td>\n",
       "      <td>-0.046979</td>\n",
       "      <td>0.819140</td>\n",
       "      <td>-1.764858e-07</td>\n",
       "    </tr>\n",
       "  </tbody>\n",
       "</table>\n",
       "<p>43200 rows × 5 columns</p>\n",
       "</div>"
      ],
      "text/plain": [
       "        Time (min)  Current (micA)  Potential (V)  Charge (C)     Power (W)\n",
       "0         0.051852      951.232910      -0.017755    0.000000 -1.688926e-05\n",
       "1         0.085186      872.192383      -0.016843    0.001823 -1.469003e-05\n",
       "2         0.118519      816.955566      -0.016217    0.003513 -1.324860e-05\n",
       "3         0.151852      775.451660      -0.015778    0.005105 -1.223476e-05\n",
       "4         0.185186      740.661621      -0.015421    0.006621 -1.142140e-05\n",
       "...            ...             ...            ...         ...           ...\n",
       "43195  1439.885182        3.759460      -0.046970    0.819110 -1.765804e-07\n",
       "43196  1439.918515        3.759155      -0.046927    0.819117 -1.764054e-07\n",
       "43197  1439.951849        3.757019      -0.046918    0.819125 -1.762708e-07\n",
       "43198  1439.985182        3.758240      -0.046991    0.819132 -1.766033e-07\n",
       "43199  1440.018515        3.756714      -0.046979    0.819140 -1.764858e-07\n",
       "\n",
       "[43200 rows x 5 columns]"
      ]
     },
     "execution_count": 45,
     "metadata": {},
     "output_type": "execute_result"
    }
   ],
   "source": [
    "time_in_min = lambda x: x / 60 #time from seconds to minutes\n",
    "dataset['Time (s)'] = dataset['Time (s)'].apply(time_in_min)\n",
    "current_in_mic = lambda x: x * 1000000 # current from A to micA\n",
    "dataset['WE(1).Current (A)'] = dataset['WE(1).Current (A)'].apply(current_in_mic)\n",
    "dataset = dataset.drop('Index', axis=1) #removing index column\n",
    "#changing names\n",
    "renamed = dataset.rename(columns={\"Time (s)\": \"Time (min)\", \"WE(1).Current (A)\": \"Current (micA)\", \"WE(1).Potential (V)\": \"Potential (V)\", \"WE(1).Charge (C)\":\"Charge (C)\", \"WE(1).Power (W)\":\"Power (W)\"})\n",
    "renamed"
   ]
  },
  {
   "cell_type": "code",
   "execution_count": 48,
   "id": "af7a1efb-85e9-4e37-b782-3426f8e79a71",
   "metadata": {
    "tags": []
   },
   "outputs": [
    {
     "data": {
      "text/plain": [
       "<Axes: xlabel='Time (min)'>"
      ]
     },
     "execution_count": 48,
     "metadata": {},
     "output_type": "execute_result"
    },
    {
     "data": {
      "image/png": "[encoded data removed]",
      "text/plain": [
       "<Figure size 640x480 with 1 Axes>"
      ]
     },
     "metadata": {},
     "output_type": "display_data"
    }
   ],
   "source": [
    "#panda plot in log scale\n",
    "renamed.plot(kind = \"line\", x = \"Time (min)\", y = \"Current (micA)\", logy = True, logx = True, )\n",
    "# y = \"Current (micA)\","
   ]
  },
  {
   "cell_type": "code",
   "execution_count": null,
   "id": "934fb7f8-5846-4ef6-b31a-1d16d43deb88",
   "metadata": {},
   "outputs": [],
   "source": []
  }
 ],
 "metadata": {
  "kernelspec": {
   "display_name": "Python 3 (ipykernel)",
   "language": "python",
   "name": "python3"
  },
  "language_info": {
   "codemirror_mode": {
    "name": "ipython",
    "version": 3
   },
   "file_extension": ".py",
   "mimetype": "text/x-python",
   "name": "python",
   "nbconvert_exporter": "python",
   "pygments_lexer": "ipython3",
   "version": "3.11.3"
  }
 },
 "nbformat": 4,
 "nbformat_minor": 5
}
