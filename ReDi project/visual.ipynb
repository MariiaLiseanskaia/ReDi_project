{
 "cells": [
  {
   "cell_type": "code",
   "execution_count": 2,
   "id": "ab01c2c9-ad04-483c-9b53-5f2eedcfe049",
   "metadata": {
    "tags": []
   },
   "outputs": [],
   "source": [
    "import PySimpleGUI as sg\n",
    "import random\n",
    "\n",
    "# что будет внутри окна\n",
    "# первым описываем кнопку и сразу указываем размер шрифта\n",
    "layout = [[sg.Button('Новое число',enable_events=True, key='-FUNCTION-', font='Helvetica 16')],\n",
    "        # затем делаем текст\n",
    "        [sg.Text('Результат:', size=(25, 1), key='-text-', font='Helvetica 16')]]\n",
    "# рисуем окно\n",
    "window = sg.Window('Генератор случайных чисел', layout, size=(350,100))\n",
    "# запускаем основной бесконечный цикл\n",
    "while True:\n",
    "    # получаем события, произошедшие в окне\n",
    "    event, values = window.read()\n",
    "    # если нажали на крестик\n",
    "    if event in (sg.WIN_CLOSED, 'Exit'):\n",
    "        # выходим из цикла\n",
    "        break\n",
    "# закрываем окно и освобождаем используемые ресурсы\n",
    "window.close()"
   ]
  },
  {
   "cell_type": "code",
   "execution_count": null,
   "id": "6d21e9d2-6ec4-49ac-8097-09c5b189d353",
   "metadata": {},
   "outputs": [],
   "source": []
  }
 ],
 "metadata": {
  "kernelspec": {
   "display_name": "Python 3 (ipykernel)",
   "language": "python",
   "name": "python3"
  },
  "language_info": {
   "codemirror_mode": {
    "name": "ipython",
    "version": 3
   },
   "file_extension": ".py",
   "mimetype": "text/x-python",
   "name": "python",
   "nbconvert_exporter": "python",
   "pygments_lexer": "ipython3",
   "version": "3.11.3"
  }
 },
 "nbformat": 4,
 "nbformat_minor": 5
}
