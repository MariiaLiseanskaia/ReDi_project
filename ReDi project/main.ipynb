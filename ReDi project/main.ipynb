{
 "cells": [
  {
   "cell_type": "code",
   "execution_count": 13,
   "id": "2e32b818-d59e-4b47-b0f5-5915a99a5db0",
   "metadata": {
    "tags": []
   },
   "outputs": [
    {
     "name": "stdin",
     "output_type": "stream",
     "text": [
      "enter the search parameter: PFD\n",
      "enter the 2 search parameter: imbibition\n"
     ]
    },
    {
     "name": "stdout",
     "output_type": "stream",
     "text": [
      "Files containing the keyword 'PFD' the keyword 'imbibition with format '.opju':\n",
      "20231103_PFD_615_R_Carb_2_ZOA_carbonclothXcarboncloth_imbibition_unsealed_0-5M-NaCl_with_gravimetry.opju\n",
      "20231106_PFD_588_R_10_Carb_1_ZOA_carbonclothXcarboncloth_imbibition_sealed_0-5M-NaCl_with_gravimetry.opju\n"
     ]
    }
   ],
   "source": [
    "import os\n",
    "\n",
    "def search_files_by_keyword(directory, keyword, keyword2, file_format):\n",
    "    # Get the list of files in the specified directory\n",
    "    file_names = os.listdir(directory)\n",
    "    # Search for the keyword in each file name\n",
    "    matching_files = [file \n",
    "                      for file in file_names \n",
    "                      if (keyword and keyword2) in file and file.endswith(file_format) ] #\n",
    "\n",
    "    return matching_files\n",
    "\n",
    "# Example usage\n",
    "directory_path = '/mnt/d/testdata'\n",
    "search_keyword = input('enter the search parameter:')\n",
    "search_keyword2 = input('enter the 2 search parameter:')\n",
    "desired_format = '.opju'  # Specify the desired file format, e.g., '.txt', '.pdf', '.jpg'\n",
    "                      \n",
    "matching_files = search_files_by_keyword(directory_path, search_keyword, search_keyword2, desired_format)\n",
    "\n",
    "if matching_files:\n",
    "    print(f\"Files containing the keyword '{search_keyword}' the keyword '{search_keyword2} with format '{desired_format}':\")\n",
    "    for file in matching_files:\n",
    "        print(file)\n",
    "else:\n",
    "    print(f\"No files found with the keyword '{search_keyword}' and format '{desired_format}'.\")"
   ]
  },
  {
   "cell_type": "markdown",
   "id": "aeb9f240-6605-4d0b-8850-d78c562b0230",
   "metadata": {},
   "source": [
    "Roberto.schmidt@posteo.de"
   ]
  },
  {
   "cell_type": "code",
   "execution_count": 26,
   "id": "9a5a9fde-84a5-4a0f-a711-abb331f10d36",
   "metadata": {},
   "outputs": [
    {
     "name": "stdin",
     "output_type": "stream",
     "text": [
      "Tell me search parameters: imbibition\n"
     ]
    },
    {
     "name": "stdout",
     "output_type": "stream",
     "text": [
      "Files containing the keyword '['imbibition']' with format '.opju':\n",
      "20231103_PFD_615_R_Carb_2_ZOA_carbonclothXcarboncloth_imbibition_unsealed_0-5M-NaCl_with_gravimetry.opju\n",
      "20231106_PFD_588_R_10_Carb_1_ZOA_carbonclothXcarboncloth_imbibition_sealed_0-5M-NaCl_with_gravimetry.opju\n"
     ]
    }
   ],
   "source": [
    "import os\n",
    "\n",
    "def search_files_by_keyword(directory, keywords, file_format):\n",
    "    # Get the list of files in the specified directory\n",
    "    file_names = os.listdir(directory)\n",
    "    # Search for the keyword in each file name\n",
    "    matching_files = [file\n",
    "                      for file in file_names\n",
    "                      if all(keyword in file for keyword in keywords) and file.endswith(file_format)\n",
    "] #\n",
    "\n",
    "    return matching_files\n",
    "\n",
    "# Example usage\n",
    "directory_path = '/mnt/d/testdata'\n",
    "search_keyword = input('Tell me search parameters:').split(' ')\n",
    "desired_format = '.opju'  # Specify the desired file format, e.g., '.txt', '.pdf', '.jpg'\n",
    "                      \n",
    "matching_files = search_files_by_keyword(directory_path, search_keyword, desired_format)\n",
    "\n",
    "if matching_files:\n",
    "    print(f\"Files containing the keyword '{search_keyword}' with format '{desired_format}':\")\n",
    "    for file in matching_files:\n",
    "        print(file)\n",
    "else:\n",
    "    print(f\"No files found with the keyword '{search_keyword}' and format '{desired_format}'.\")"
   ]
  },
  {
   "cell_type": "code",
   "execution_count": null,
   "id": "0ef81125-c858-4228-a20d-c9c059d6a26c",
   "metadata": {},
   "outputs": [],
   "source": []
  }
 ],
 "metadata": {
  "kernelspec": {
   "display_name": "Python 3 (ipykernel)",
   "language": "python",
   "name": "python3"
  },
  "language_info": {
   "codemirror_mode": {
    "name": "ipython",
    "version": 3
   },
   "file_extension": ".py",
   "mimetype": "text/x-python",
   "name": "python",
   "nbconvert_exporter": "python",
   "pygments_lexer": "ipython3",
   "version": "3.11.3"
  }
 },
 "nbformat": 4,
 "nbformat_minor": 5
}
