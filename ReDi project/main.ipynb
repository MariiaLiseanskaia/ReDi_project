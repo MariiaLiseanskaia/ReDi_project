{
 "cells": [
  {
   "cell_type": "markdown",
   "metadata": {},
   "source": [
    "## Search by two parameters ##"
   ]
  },
  {
   "cell_type": "code",
   "execution_count": null,
   "metadata": {
    "collapsed": true,
    "tags": []
   },
   "outputs": [],
   "source": [
    "import os\n",
    "\n",
    "def search_files_by_keyword(directory, keyword, keyword2, file_format):\n",
    "    # Get the list of files in the specified directory\n",
    "    file_names = os.listdir(directory)\n",
    "    # Search for the keyword in each file name\n",
    "    matching_files = [file \n",
    "                      for file in file_names \n",
    "                      if (keyword and keyword2) in file and file.endswith(file_format) ] \n",
    "\n",
    "    return matching_files\n",
    "\n",
    "# Example usage\n",
    "directory_path = '/mnt/d/testdata'\n",
    "search_keyword = input('enter the search parameter:')\n",
    "search_keyword2 = input('enter the 2 search parameter:')\n",
    "desired_format = '.opju'  # Specify the desired file format, e.g., '.txt', '.pdf', '.jpg'\n",
    "                      \n",
    "matching_files = search_files_by_keyword(directory_path, search_keyword, search_keyword2, desired_format)\n",
    "\n",
    "if matching_files:\n",
    "    print(f\"Files containing the keyword '{search_keyword}' the keyword '{search_keyword2} with format '{desired_format}':\")\n",
    "    for file in matching_files:\n",
    "        print(file)\n",
    "else:\n",
    "    print(f\"No files found with the keyword '{search_keyword}' and format '{desired_format}'.\")"
   ]
  },
  {
   "cell_type": "markdown",
   "metadata": {},
   "source": [
    "Roberto.schmidt@posteo.de"
   ]
  },
  {
   "cell_type": "markdown",
   "metadata": {},
   "source": [
    "## This part is about reading and searching file names with list of keywords ##"
   ]
  },
  {
   "cell_type": "code",
   "execution_count": 2,
   "metadata": {},
   "outputs": [
    {
     "name": "stdout",
     "output_type": "stream",
     "text": [
      "Files containing the keyword '['PFD_617_R_Carb_2']' with format '.opju':\n",
      "20221019_PFD_617_R_Carb_2_ZOA_imbibition_hanging_0-1M-NaCl.opj\n",
      "20221115_PFD_617_R_Carb_2_ZOA_immersed_0-1M-NaCl.opj\n",
      "20221116_PFD_617_R_Carb_2_ZOA_immersed_0-1M-NaCl.opj\n",
      "20221121_PFD_617_R_Carb_2_ZOA_drying_hanging_0-1M-NaCl_without_RE_1.opj\n",
      "20230127_PFD_617_R_Carb_2_OCP.opju\n",
      "20231019_PFD_617_R_Carb_2_ZOA_carbonclothXcarboncloth_imbibition_unsealed_0-1M-NaCl_1st_cycle_with_gravimetry.opju\n"
     ]
    }
   ],
   "source": [
    "import os\n",
    "import pandas as pd\n",
    "\n",
    "def search_files_by_keyword(directory, keywords, file_format):\n",
    "    # Get the list of files in the specified directory\n",
    "    file_names = os.listdir(directory)\n",
    "    \n",
    "      \n",
    "    # Search for the keyword in each file name\n",
    "    matching_files = [file #return file\n",
    "                      for file in file_names # listing files in directory\n",
    "                      if all(keyword in file for keyword in keywords) and (file.endswith(file_format) or file.endswith(file_format[:-1]))# searching for all keywords\n",
    "] \n",
    "\n",
    "    return matching_files\n",
    "\n",
    "\n",
    "directory_path = 'D:\\electrochemistry experiments\\Carbon_ZOA'\n",
    "search_keyword = input('Tell me search parameters:').split(' ')\n",
    "desired_format = '.opju' # Specify the desired file format, e.g., '.txt', '.pdf', '.jpg'\n",
    "                      \n",
    "matching_files = search_files_by_keyword(directory_path, search_keyword, desired_format)\n",
    "\n",
    "if matching_files:\n",
    "    print(f\"Files containing the keyword '{search_keyword}' with format '{desired_format}':\")\n",
    "    for file in matching_files:\n",
    "        print(file)\n",
    "        \n",
    "else:\n",
    "    print(f\"No files found with the keyword '{search_keyword}' and format '{desired_format}'.\")\n",
    "    "
   ]
  },
  {
   "cell_type": "markdown",
   "metadata": {},
   "source": [
    "## This part is about data processing ##"
   ]
  },
  {
   "cell_type": "code",
   "execution_count": 3,
   "metadata": {
    "tags": []
   },
   "outputs": [
    {
     "ename": "FileNotFoundError",
     "evalue": "File b'/mnt/d/testdata/20231019_PFD_617_R_Carb_2_ZOA_carbonclothXcarboncloth_imbibition_unsealed_0-1M-NaCl_1st_cycle_with_gravimetry.opju' does not exist",
     "output_type": "error",
     "traceback": [
      "\u001b[1;31m---------------------------------------------------------------------------\u001b[0m",
      "\u001b[1;31mFileNotFoundError\u001b[0m                         Traceback (most recent call last)",
      "\u001b[1;32m<ipython-input-3-4807612ccfb0>\u001b[0m in \u001b[0;36m<module>\u001b[1;34m()\u001b[0m\n\u001b[1;32m----> 1\u001b[1;33m \u001b[0mdataset\u001b[0m \u001b[1;33m=\u001b[0m \u001b[0mpd\u001b[0m\u001b[1;33m.\u001b[0m\u001b[0mread_csv\u001b[0m\u001b[1;33m(\u001b[0m\u001b[1;34mf'/mnt/d/testdata/{file}'\u001b[0m\u001b[1;33m,\u001b[0m \u001b[0mdelimiter\u001b[0m \u001b[1;33m=\u001b[0m \u001b[1;34m'\\t'\u001b[0m\u001b[1;33m)\u001b[0m \u001b[1;31m#CAUTION! importing data from LAST file!\u001b[0m\u001b[1;33m\u001b[0m\u001b[0m\n\u001b[0m\u001b[0;32m      2\u001b[0m \u001b[0mdataset\u001b[0m\u001b[1;33m\u001b[0m\u001b[0m\n",
      "\u001b[1;32mC:\\Programfiles\\Anaconda3\\lib\\site-packages\\pandas\\io\\parsers.py\u001b[0m in \u001b[0;36mparser_f\u001b[1;34m(filepath_or_buffer, sep, delimiter, header, names, index_col, usecols, squeeze, prefix, mangle_dupe_cols, dtype, engine, converters, true_values, false_values, skipinitialspace, skiprows, nrows, na_values, keep_default_na, na_filter, verbose, skip_blank_lines, parse_dates, infer_datetime_format, keep_date_col, date_parser, dayfirst, iterator, chunksize, compression, thousands, decimal, lineterminator, quotechar, quoting, escapechar, comment, encoding, dialect, tupleize_cols, error_bad_lines, warn_bad_lines, skipfooter, skip_footer, doublequote, delim_whitespace, as_recarray, compact_ints, use_unsigned, low_memory, buffer_lines, memory_map, float_precision)\u001b[0m\n\u001b[0;32m    653\u001b[0m                     skip_blank_lines=skip_blank_lines)\n\u001b[0;32m    654\u001b[0m \u001b[1;33m\u001b[0m\u001b[0m\n\u001b[1;32m--> 655\u001b[1;33m         \u001b[1;32mreturn\u001b[0m \u001b[0m_read\u001b[0m\u001b[1;33m(\u001b[0m\u001b[0mfilepath_or_buffer\u001b[0m\u001b[1;33m,\u001b[0m \u001b[0mkwds\u001b[0m\u001b[1;33m)\u001b[0m\u001b[1;33m\u001b[0m\u001b[0m\n\u001b[0m\u001b[0;32m    656\u001b[0m \u001b[1;33m\u001b[0m\u001b[0m\n\u001b[0;32m    657\u001b[0m     \u001b[0mparser_f\u001b[0m\u001b[1;33m.\u001b[0m\u001b[0m__name__\u001b[0m \u001b[1;33m=\u001b[0m \u001b[0mname\u001b[0m\u001b[1;33m\u001b[0m\u001b[0m\n",
      "\u001b[1;32mC:\\Programfiles\\Anaconda3\\lib\\site-packages\\pandas\\io\\parsers.py\u001b[0m in \u001b[0;36m_read\u001b[1;34m(filepath_or_buffer, kwds)\u001b[0m\n\u001b[0;32m    403\u001b[0m \u001b[1;33m\u001b[0m\u001b[0m\n\u001b[0;32m    404\u001b[0m     \u001b[1;31m# Create the parser.\u001b[0m\u001b[1;33m\u001b[0m\u001b[1;33m\u001b[0m\u001b[0m\n\u001b[1;32m--> 405\u001b[1;33m     \u001b[0mparser\u001b[0m \u001b[1;33m=\u001b[0m \u001b[0mTextFileReader\u001b[0m\u001b[1;33m(\u001b[0m\u001b[0mfilepath_or_buffer\u001b[0m\u001b[1;33m,\u001b[0m \u001b[1;33m**\u001b[0m\u001b[0mkwds\u001b[0m\u001b[1;33m)\u001b[0m\u001b[1;33m\u001b[0m\u001b[0m\n\u001b[0m\u001b[0;32m    406\u001b[0m \u001b[1;33m\u001b[0m\u001b[0m\n\u001b[0;32m    407\u001b[0m     \u001b[1;32mif\u001b[0m \u001b[0mchunksize\u001b[0m \u001b[1;32mor\u001b[0m \u001b[0miterator\u001b[0m\u001b[1;33m:\u001b[0m\u001b[1;33m\u001b[0m\u001b[0m\n",
      "\u001b[1;32mC:\\Programfiles\\Anaconda3\\lib\\site-packages\\pandas\\io\\parsers.py\u001b[0m in \u001b[0;36m__init__\u001b[1;34m(self, f, engine, **kwds)\u001b[0m\n\u001b[0;32m    762\u001b[0m             \u001b[0mself\u001b[0m\u001b[1;33m.\u001b[0m\u001b[0moptions\u001b[0m\u001b[1;33m[\u001b[0m\u001b[1;34m'has_index_names'\u001b[0m\u001b[1;33m]\u001b[0m \u001b[1;33m=\u001b[0m \u001b[0mkwds\u001b[0m\u001b[1;33m[\u001b[0m\u001b[1;34m'has_index_names'\u001b[0m\u001b[1;33m]\u001b[0m\u001b[1;33m\u001b[0m\u001b[0m\n\u001b[0;32m    763\u001b[0m \u001b[1;33m\u001b[0m\u001b[0m\n\u001b[1;32m--> 764\u001b[1;33m         \u001b[0mself\u001b[0m\u001b[1;33m.\u001b[0m\u001b[0m_make_engine\u001b[0m\u001b[1;33m(\u001b[0m\u001b[0mself\u001b[0m\u001b[1;33m.\u001b[0m\u001b[0mengine\u001b[0m\u001b[1;33m)\u001b[0m\u001b[1;33m\u001b[0m\u001b[0m\n\u001b[0m\u001b[0;32m    765\u001b[0m \u001b[1;33m\u001b[0m\u001b[0m\n\u001b[0;32m    766\u001b[0m     \u001b[1;32mdef\u001b[0m \u001b[0mclose\u001b[0m\u001b[1;33m(\u001b[0m\u001b[0mself\u001b[0m\u001b[1;33m)\u001b[0m\u001b[1;33m:\u001b[0m\u001b[1;33m\u001b[0m\u001b[0m\n",
      "\u001b[1;32mC:\\Programfiles\\Anaconda3\\lib\\site-packages\\pandas\\io\\parsers.py\u001b[0m in \u001b[0;36m_make_engine\u001b[1;34m(self, engine)\u001b[0m\n\u001b[0;32m    983\u001b[0m     \u001b[1;32mdef\u001b[0m \u001b[0m_make_engine\u001b[0m\u001b[1;33m(\u001b[0m\u001b[0mself\u001b[0m\u001b[1;33m,\u001b[0m \u001b[0mengine\u001b[0m\u001b[1;33m=\u001b[0m\u001b[1;34m'c'\u001b[0m\u001b[1;33m)\u001b[0m\u001b[1;33m:\u001b[0m\u001b[1;33m\u001b[0m\u001b[0m\n\u001b[0;32m    984\u001b[0m         \u001b[1;32mif\u001b[0m \u001b[0mengine\u001b[0m \u001b[1;33m==\u001b[0m \u001b[1;34m'c'\u001b[0m\u001b[1;33m:\u001b[0m\u001b[1;33m\u001b[0m\u001b[0m\n\u001b[1;32m--> 985\u001b[1;33m             \u001b[0mself\u001b[0m\u001b[1;33m.\u001b[0m\u001b[0m_engine\u001b[0m \u001b[1;33m=\u001b[0m \u001b[0mCParserWrapper\u001b[0m\u001b[1;33m(\u001b[0m\u001b[0mself\u001b[0m\u001b[1;33m.\u001b[0m\u001b[0mf\u001b[0m\u001b[1;33m,\u001b[0m \u001b[1;33m**\u001b[0m\u001b[0mself\u001b[0m\u001b[1;33m.\u001b[0m\u001b[0moptions\u001b[0m\u001b[1;33m)\u001b[0m\u001b[1;33m\u001b[0m\u001b[0m\n\u001b[0m\u001b[0;32m    986\u001b[0m         \u001b[1;32melse\u001b[0m\u001b[1;33m:\u001b[0m\u001b[1;33m\u001b[0m\u001b[0m\n\u001b[0;32m    987\u001b[0m             \u001b[1;32mif\u001b[0m \u001b[0mengine\u001b[0m \u001b[1;33m==\u001b[0m \u001b[1;34m'python'\u001b[0m\u001b[1;33m:\u001b[0m\u001b[1;33m\u001b[0m\u001b[0m\n",
      "\u001b[1;32mC:\\Programfiles\\Anaconda3\\lib\\site-packages\\pandas\\io\\parsers.py\u001b[0m in \u001b[0;36m__init__\u001b[1;34m(self, src, **kwds)\u001b[0m\n\u001b[0;32m   1603\u001b[0m         \u001b[0mkwds\u001b[0m\u001b[1;33m[\u001b[0m\u001b[1;34m'allow_leading_cols'\u001b[0m\u001b[1;33m]\u001b[0m \u001b[1;33m=\u001b[0m \u001b[0mself\u001b[0m\u001b[1;33m.\u001b[0m\u001b[0mindex_col\u001b[0m \u001b[1;32mis\u001b[0m \u001b[1;32mnot\u001b[0m \u001b[1;32mFalse\u001b[0m\u001b[1;33m\u001b[0m\u001b[0m\n\u001b[0;32m   1604\u001b[0m \u001b[1;33m\u001b[0m\u001b[0m\n\u001b[1;32m-> 1605\u001b[1;33m         \u001b[0mself\u001b[0m\u001b[1;33m.\u001b[0m\u001b[0m_reader\u001b[0m \u001b[1;33m=\u001b[0m \u001b[0mparsers\u001b[0m\u001b[1;33m.\u001b[0m\u001b[0mTextReader\u001b[0m\u001b[1;33m(\u001b[0m\u001b[0msrc\u001b[0m\u001b[1;33m,\u001b[0m \u001b[1;33m**\u001b[0m\u001b[0mkwds\u001b[0m\u001b[1;33m)\u001b[0m\u001b[1;33m\u001b[0m\u001b[0m\n\u001b[0m\u001b[0;32m   1606\u001b[0m \u001b[1;33m\u001b[0m\u001b[0m\n\u001b[0;32m   1607\u001b[0m         \u001b[1;31m# XXX\u001b[0m\u001b[1;33m\u001b[0m\u001b[1;33m\u001b[0m\u001b[0m\n",
      "\u001b[1;32mpandas/_libs/parsers.pyx\u001b[0m in \u001b[0;36mpandas._libs.parsers.TextReader.__cinit__ (pandas\\_libs\\parsers.c:4209)\u001b[1;34m()\u001b[0m\n",
      "\u001b[1;32mpandas/_libs/parsers.pyx\u001b[0m in \u001b[0;36mpandas._libs.parsers.TextReader._setup_parser_source (pandas\\_libs\\parsers.c:8873)\u001b[1;34m()\u001b[0m\n",
      "\u001b[1;31mFileNotFoundError\u001b[0m: File b'/mnt/d/testdata/20231019_PFD_617_R_Carb_2_ZOA_carbonclothXcarboncloth_imbibition_unsealed_0-1M-NaCl_1st_cycle_with_gravimetry.opju' does not exist"
     ]
    }
   ],
   "source": [
    "dataset = pd.read_csv(f'/mnt/d/testdata/{file}', delimiter = '\\t') #CAUTION! importing data from LAST file!\n",
    "dataset"
   ]
  },
  {
   "cell_type": "code",
   "execution_count": null,
   "metadata": {
    "collapsed": true,
    "tags": []
   },
   "outputs": [],
   "source": [
    "dataset.columns"
   ]
  },
  {
   "cell_type": "code",
   "execution_count": null,
   "metadata": {
    "collapsed": true,
    "tags": []
   },
   "outputs": [],
   "source": [
    "time_in_min = lambda x: x / 60 #time from seconds to minutes\n",
    "dataset['Time (s)'] = dataset['Time (s)'].apply(time_in_min)\n",
    "current_in_mic = lambda x: x * 1000000 # current from A to micA\n",
    "dataset['WE(1).Current (A)'] = dataset['WE(1).Current (A)'].apply(current_in_mic)\n",
    "dataset = dataset.drop('Index', axis=1) #removing index column\n",
    "#changing names\n",
    "renamed = dataset.rename(columns={\"Time (s)\": \"Time (min)\", \"WE(1).Current (A)\": \"Current (micA)\", \"WE(1).Potential (V)\": \"Potential (V)\", \"WE(1).Charge (C)\":\"Charge (C)\", \"WE(1).Power (W)\":\"Power (W)\"})\n",
    "renamed"
   ]
  },
  {
   "cell_type": "code",
   "execution_count": null,
   "metadata": {
    "collapsed": true,
    "tags": []
   },
   "outputs": [],
   "source": [
    "#panda plot in log scale\n",
    "renamed.plot(kind = \"line\", x = \"Time (min)\", y = \"Current (micA)\", logy = True, logx = True, )\n",
    "# y = \"Current (micA)\","
   ]
  },
  {
   "cell_type": "markdown",
   "metadata": {},
   "source": [
    "## This part is about reading several data files##"
   ]
  },
  {
   "cell_type": "code",
   "execution_count": 1,
   "metadata": {},
   "outputs": [
    {
     "name": "stdout",
     "output_type": "stream",
     "text": [
      "Tell me search parameters:PFD_615_R_Carb_2_ZOA_carbonclothXcarboncloth_imbibition_unsealed_0-1M-NaCl\n",
      "Files containing the keyword '['PFD_615_R_Carb_2_ZOA_carbonclothXcarboncloth_imbibition_unsealed_0-1M-NaCl']' with format '.txt':\n",
      "20230928_PFD_615_R_Carb_2_ZOA_carbonclothXcarboncloth_imbibition_unsealed_0-1M-NaCl_1st_cycle_with_gravimetry.txt\n",
      "20231002_PFD_615_R_Carb_2_ZOA_carbonclothXcarboncloth_imbibition_unsealed_0-1M-NaCl_2nd_cycle_with_gravimetry.txt\n",
      "20231005_PFD_615_R_Carb_2_ZOA_carbonclothXcarboncloth_imbibition_unsealed_0-1M-NaCl_3rd_cycle_with_gravimetry.txt\n",
      "20231009_PFD_615_R_Carb_2_ZOA_carbonclothXcarboncloth_imbibition_unsealed_0-1M-NaCl_4th_cycle_with_gravimetry.txt\n",
      "\n",
      "All file names in a single list:\n"
     ]
    }
   ],
   "source": [
    "import os\n",
    "import pandas as pd\n",
    "\n",
    "def search_files_by_keyword(directory, keywords, file_format):\n",
    "    # Get the list of files in the specified directory\n",
    "    file_names = os.listdir(directory)\n",
    "    \n",
    "      \n",
    "    # Search for the keyword in each file name\n",
    "    matching_files = [file #return file\n",
    "                      for file in file_names # listing files in directory\n",
    "                      if all(keyword in file for keyword in keywords) and file.endswith(file_format)# searching for all keywords\n",
    "                      # ключевое слово ищется в каждом файле из списка, прежде чем перейти к новому файлу в имени этого проверяются все ключевые слова\n",
    "                    # keyword is searched for in each file in the list, all keywords are checked in the name of this file before moving to a new file\n",
    "                     ] \n",
    "\n",
    "    return matching_files\n",
    "\n",
    "\n",
    "directory_path = 'D:\\electrochemistry experiments\\Carbon_ZOA'\n",
    "search_keyword = input('Tell me search parameters:').split(' ')\n",
    "desired_format = '.txt'  # Specify the desired file format, e.g., '.txt', '.pdf', '.jpg' '.opju'\n",
    "                      \n",
    "matching_files = search_files_by_keyword(directory_path, search_keyword, desired_format)\n",
    "\n",
    "if matching_files:\n",
    "    print(f\"Files containing the keyword '{search_keyword}' with format '{desired_format}':\")\n",
    "    for file in matching_files:\n",
    "        print(file)\n",
    "    # Gathering all file names into a single list\n",
    "    all_file_names = matching_files\n",
    "    print(\"\\nAll file names in a single list:\")\n",
    "    #print(all_file_names)    \n",
    "        \n",
    "else:\n",
    "    print(f\"No files found with the keyword '{search_keyword}' and format '{desired_format}'.\")\n",
    "    "
   ]
  },
  {
   "cell_type": "code",
   "execution_count": null,
   "metadata": {
    "collapsed": true
   },
   "outputs": [],
   "source": [
    "all_file_names"
   ]
  },
  {
   "cell_type": "code",
   "execution_count": 2,
   "metadata": {},
   "outputs": [
    {
     "name": "stdout",
     "output_type": "stream",
     "text": [
      "Table for file '20230928_PFD_615_R_Carb_2_ZOA_carbonclothXcarboncloth_imbibition_unsealed_0-1M-NaCl_1st_cycle_with_gravimetry':\n",
      "    Time (s)  WE(1).Current (A)  WE(1).Potential (V)  WE(1).Charge (C)  \\\n",
      "0   3.596152           0.003777            -0.115753          0.000000   \n",
      "1   5.596152           0.003613            -0.113373          0.007390   \n",
      "2   7.596152           0.003501            -0.111847          0.014503   \n",
      "3   9.596152           0.003416            -0.110870          0.021421   \n",
      "4  11.596152           0.003346            -0.110291          0.028183   \n",
      "\n",
      "   WE(1).Power (W)  Index  \n",
      "0        -0.000437      1  \n",
      "1        -0.000410      2  \n",
      "2        -0.000392      3  \n",
      "3        -0.000379      4  \n",
      "4        -0.000369      5  \n",
      "\n",
      "\n",
      "Table for file '20231002_PFD_615_R_Carb_2_ZOA_carbonclothXcarboncloth_imbibition_unsealed_0-1M-NaCl_2nd_cycle_with_gravimetry':\n",
      "    Time (s)  WE(1).Current (A)  WE(1).Potential (V)  WE(1).Charge (C)  \\\n",
      "0   2.548155          -0.000476             0.223938          0.000000   \n",
      "1   4.548155          -0.000469             0.224335         -0.000945   \n",
      "2   6.548155          -0.000463             0.223999         -0.001878   \n",
      "3   8.548155          -0.000458             0.223999         -0.002799   \n",
      "4  10.548155          -0.000454             0.224670         -0.003711   \n",
      "\n",
      "   WE(1).Power (W)  Index  \n",
      "0        -0.000107      1  \n",
      "1        -0.000105      2  \n",
      "2        -0.000104      3  \n",
      "3        -0.000103      4  \n",
      "4        -0.000102      5  \n",
      "\n",
      "\n",
      "Table for file '20231005_PFD_615_R_Carb_2_ZOA_carbonclothXcarboncloth_imbibition_unsealed_0-1M-NaCl_3rd_cycle_with_gravimetry':\n",
      "    Time (s)  WE(1).Current (A)  Corrected time (s)  Index  \\\n",
      "0   2.562147           0.001844                 0.0      1   \n",
      "1   4.562147           0.001755                 2.0      2   \n",
      "2   6.562147           0.001691                 4.0      3   \n",
      "3   8.562147           0.001639                 6.0      4   \n",
      "4  10.562147           0.001595                 8.0      5   \n",
      "\n",
      "   WE(1).Potential (V)  WE(1).Charge (C)  WE(1).Power (W)  \n",
      "0            -0.021237          0.000000        -0.000039  \n",
      "1            -0.020395          0.003598        -0.000036  \n",
      "2            -0.019867          0.007044        -0.000034  \n",
      "3            -0.019467          0.010374        -0.000032  \n",
      "4            -0.019183          0.013607        -0.000031  \n",
      "\n",
      "\n",
      "Table for file '20231009_PFD_615_R_Carb_2_ZOA_carbonclothXcarboncloth_imbibition_unsealed_0-1M-NaCl_4th_cycle_with_gravimetry':\n",
      "    Time (s)  WE(1).Current (A)  WE(1).Potential (V)  WE(1).Charge (C)  \\\n",
      "0   3.994158           0.000944            -0.035281          0.000000   \n",
      "1   5.994158           0.000903            -0.034451          0.001847   \n",
      "2   7.994158           0.000873            -0.033884          0.003622   \n",
      "3   9.994158           0.000850            -0.033459          0.005345   \n",
      "4  11.994158           0.000830            -0.033151          0.007025   \n",
      "\n",
      "   WE(1).Power (W)  Index  \n",
      "0        -0.000033      1  \n",
      "1        -0.000031      2  \n",
      "2        -0.000030      3  \n",
      "3        -0.000028      4  \n",
      "4        -0.000028      5  \n",
      "\n",
      "\n"
     ]
    }
   ],
   "source": [
    "def read_files_and_create_tables(file_names):\n",
    "    # Dictionary to store tables with file names as keys\n",
    "    tables = {}\n",
    "\n",
    "    for file_name in file_names:\n",
    "        try:\n",
    "            # Assuming the files are in CSV format, adjust as needed\n",
    "            table = pd.read_csv(f'D:\\electrochemistry experiments\\Carbon_ZOA\\{file_name}', delimiter = '\\t')\n",
    "            \n",
    "            # Use the file name (without extension) as the key for the table\n",
    "            key = file_name.rsplit('.', 1)[0]\n",
    "            \n",
    "            # Add the table to the dictionary\n",
    "            tables[key] = table\n",
    "        except Exception as e:\n",
    "            print(f\"Error reading file '{file_name}': {e}\")\n",
    "\n",
    "    return tables\n",
    "\n",
    "\n",
    "# Call the function to read files and create tables\n",
    "resulting_tables = read_files_and_create_tables(all_file_names)\n",
    "\n",
    "# Now 'resulting_tables' is a dictionary where keys are file names and values are Pandas DataFrames containing the data from each file\n",
    "# You can further manipulate or analyze the data in each table as needed\n",
    "for key, table in resulting_tables.items():\n",
    "    print(f\"Table for file '{key}':\")\n",
    "    print(table.head(5))\n",
    "    print(\"\\n\")\n"
   ]
  },
  {
   "cell_type": "code",
   "execution_count": 3,
   "metadata": {
    "collapsed": true
   },
   "outputs": [],
   "source": [
    "for key, table in resulting_tables.items():\n",
    "    table.columns #The column labels of the DataFrame."
   ]
  },
  {
   "cell_type": "code",
   "execution_count": 15,
   "metadata": {},
   "outputs": [
    {
     "name": "stdout",
     "output_type": "stream",
     "text": [
      "Table for file '20230928_PFD_615_R_Carb_2_ZOA_carbonclothXcarboncloth_imbibition_unsealed_0-1M-NaCl_1st_cycle_with_gravimetry':\n",
      "     Time (min)  Current (micA)  Potential (V)  Charge (C)  Power (W)\n",
      "0  7.707802e-11    3.776855e+33      -0.115753    0.000000  -0.000437\n",
      "1  1.199450e-10    3.612671e+33      -0.113373    0.007390  -0.000410\n",
      "2  1.628119e-10    3.501282e+33      -0.111847    0.014503  -0.000392\n",
      "3  2.056788e-10    3.416138e+33      -0.110870    0.021421  -0.000379\n",
      "4  2.485458e-10    3.346252e+33      -0.110291    0.028183  -0.000369\n",
      "\n",
      "\n",
      "Table for file '20231002_PFD_615_R_Carb_2_ZOA_carbonclothXcarboncloth_imbibition_unsealed_0-1M-NaCl_2nd_cycle_with_gravimetry':\n",
      "     Time (min)  Current (micA)  Potential (V)  Charge (C)  Power (W)\n",
      "0  5.461580e-11   -4.763184e+32       0.223938    0.000000  -0.000107\n",
      "1  9.748275e-11   -4.691467e+32       0.224335   -0.000945  -0.000105\n",
      "2  1.403497e-10   -4.633179e+32       0.223999   -0.001878  -0.000104\n",
      "3  1.832166e-10   -4.582214e+32       0.223999   -0.002799  -0.000103\n",
      "4  2.260836e-10   -4.536438e+32       0.224670   -0.003711  -0.000102\n",
      "\n",
      "\n"
     ]
    },
    {
     "name": "stderr",
     "output_type": "stream",
     "text": [
      "C:\\Programfiles\\Anaconda3\\lib\\site-packages\\matplotlib\\ticker.py:2039: UserWarning: Data has no positive values, and therefore cannot be log-scaled.\n",
      "  \"Data has no positive values, and therefore cannot be \"\n"
     ]
    },
    {
     "name": "stdout",
     "output_type": "stream",
     "text": [
      "Table for file '20231005_PFD_615_R_Carb_2_ZOA_carbonclothXcarboncloth_imbibition_unsealed_0-1M-NaCl_3rd_cycle_with_gravimetry':\n",
      "     Time (min)  Current (micA)  Corrected time (s)  Potential (V)  \\\n",
      "0  5.491570e-11    1.843567e+33                 0.0      -0.021237   \n",
      "1  9.778264e-11    1.754761e+33                 2.0      -0.020395   \n",
      "2  1.406496e-10    1.690674e+33                 4.0      -0.019867   \n",
      "3  1.835165e-10    1.639099e+33                 6.0      -0.019467   \n",
      "4  2.263835e-10    1.594543e+33                 8.0      -0.019183   \n",
      "\n",
      "   Charge (C)  Power (W)  \n",
      "0    0.000000  -0.000039  \n",
      "1    0.003598  -0.000036  \n",
      "2    0.007044  -0.000034  \n",
      "3    0.010374  -0.000032  \n",
      "4    0.013607  -0.000031  \n",
      "\n",
      "\n",
      "Table for file '20231009_PFD_615_R_Carb_2_ZOA_carbonclothXcarboncloth_imbibition_unsealed_0-1M-NaCl_4th_cycle_with_gravimetry':\n",
      "     Time (min)  Current (micA)  Potential (V)  Charge (C)  Power (W)\n",
      "0  8.560867e-11    9.439087e+32      -0.035281    0.000000  -0.000033\n",
      "1  1.284756e-10    9.027100e+32      -0.034451    0.001847  -0.000031\n",
      "2  1.713425e-10    8.728027e+32      -0.033884    0.003622  -0.000030\n",
      "3  2.142095e-10    8.496094e+32      -0.033459    0.005345  -0.000028\n",
      "4  2.570764e-10    8.303833e+32      -0.033151    0.007025  -0.000028\n",
      "\n",
      "\n"
     ]
    },
    {
     "data": {
      "image/png": "[encoded data removed]",
      "text/plain": [
       "<matplotlib.figure.Figure at 0x182fc12c2e8>"
      ]
     },
     "metadata": {},
     "output_type": "display_data"
    },
    {
     "data": {
      "image/png": "[encoded data removed]",
      "text/plain": [
       "<matplotlib.figure.Figure at 0x1829a1ba358>"
      ]
     },
     "metadata": {},
     "output_type": "display_data"
    },
    {
     "data": {
      "image/png": "[encoded data removed]",
      "text/plain": [
       "<matplotlib.figure.Figure at 0x182fc197be0>"
      ]
     },
     "metadata": {},
     "output_type": "display_data"
    },
    {
     "data": {
      "image/png": "[encoded data removed]",
      "text/plain": [
       "<matplotlib.figure.Figure at 0x1829a69a518>"
      ]
     },
     "metadata": {},
     "output_type": "display_data"
    }
   ],
   "source": [
    "%matplotlib inline\n",
    "import matplotlib.pyplot as plt\n",
    "time_in_min = lambda x: x / 60 #time from seconds to minutes\n",
    "current_in_mic = lambda x: x * 1000000 # current from A to micA\n",
    "for key, table in resulting_tables.items():\n",
    "    table['Time (s)'] = table['Time (s)'].apply(time_in_min)\n",
    "    table['WE(1).Current (A)'] = table['WE(1).Current (A)'].apply(current_in_mic)\n",
    "    table = table.drop('Index', axis=1) #removing index column|\n",
    "    #changing names\n",
    "    table = table.rename(columns={\"Time (s)\": \"Time (min)\", \"WE(1).Current (A)\": \"Current (micA)\", \"WE(1).Potential (V)\": \"Potential (V)\", \"WE(1).Charge (C)\":\"Charge (C)\", \"WE(1).Power (W)\":\"Power (W)\"})\n",
    "    print(f\"Table for file '{key}':\")\n",
    "    print(table.head(5))\n",
    "    print(\"\\n\")\n",
    "    table.plot(kind = \"line\", x = \"Time (min)\", y = \"Current (micA)\", logy = True, logx = True,title=f\"{key}\") "
   ]
  },
  {
   "cell_type": "code",
   "execution_count": 9,
   "metadata": {},
   "outputs": [
    {
     "name": "stdout",
     "output_type": "stream",
     "text": [
      "        Time (s)  WE(1).Current (A)  WE(1).Potential (V)  WE(1).Charge (C)  \\\n",
      "0       0.000999       3.776855e+09            -0.115753          0.000000   \n",
      "1       0.001554       3.612671e+09            -0.113373          0.007390   \n",
      "2       0.002110       3.501282e+09            -0.111847          0.014503   \n",
      "3       0.002666       3.416138e+09            -0.110870          0.021421   \n",
      "4       0.003221       3.346252e+09            -0.110291          0.028183   \n",
      "5       0.003777       3.286743e+09            -0.109772          0.034816   \n",
      "6       0.004332       3.233643e+09            -0.109314          0.041337   \n",
      "7       0.004888       3.187561e+09            -0.109039          0.047758   \n",
      "8       0.005443       3.145447e+09            -0.108856          0.054091   \n",
      "9       0.005999       3.106384e+09            -0.108704          0.060343   \n",
      "10      0.006554       3.070068e+09            -0.108490          0.066519   \n",
      "11      0.007110       3.036804e+09            -0.108368          0.072626   \n",
      "12      0.007666       3.004150e+09            -0.108276          0.078667   \n",
      "13      0.008221       2.973633e+09            -0.108185          0.084645   \n",
      "14      0.008777       2.944946e+09            -0.108093          0.090563   \n",
      "15      0.009332       2.917175e+09            -0.108032          0.096425   \n",
      "16      0.009888       2.890930e+09            -0.107971          0.102234   \n",
      "17      0.010443       2.865295e+09            -0.107971          0.107990   \n",
      "18      0.010999       2.840881e+09            -0.107941          0.113696   \n",
      "19      0.011554       2.816772e+09            -0.107941          0.119354   \n",
      "20      0.012110       2.793884e+09            -0.107971          0.124964   \n",
      "21      0.012666       2.772217e+09            -0.107849          0.130530   \n",
      "22      0.013221       2.749939e+09            -0.107788          0.136053   \n",
      "23      0.013777       2.728577e+09            -0.107819          0.141531   \n",
      "24      0.014332       2.708435e+09            -0.107849          0.146968   \n",
      "25      0.014888       2.688293e+09            -0.107910          0.152365   \n",
      "26      0.015443       2.668762e+09            -0.107849          0.157722   \n",
      "27      0.015999       2.649536e+09            -0.107849          0.163040   \n",
      "28      0.016554       2.630920e+09            -0.107849          0.168321   \n",
      "29      0.017110       2.612915e+09            -0.107971          0.173564   \n",
      "...          ...                ...                  ...               ...   \n",
      "43170  23.984332       1.485596e+07            -0.211517          4.238987   \n",
      "43171  23.984888       1.486511e+07            -0.211487          4.239017   \n",
      "43172  23.985443       1.486816e+07            -0.211487          4.239047   \n",
      "43173  23.985999       1.486206e+07            -0.211487          4.239077   \n",
      "43174  23.986554       1.485901e+07            -0.211517          4.239107   \n",
      "43175  23.987110       1.487122e+07            -0.211395          4.239136   \n",
      "43176  23.987666       1.486816e+07            -0.211456          4.239166   \n",
      "43177  23.988221       1.486511e+07            -0.211487          4.239196   \n",
      "43178  23.988777       1.487427e+07            -0.211487          4.239225   \n",
      "43179  23.989332       1.486816e+07            -0.211456          4.239255   \n",
      "43180  23.989888       1.486206e+07            -0.211456          4.239285   \n",
      "43181  23.990443       1.486511e+07            -0.211395          4.239315   \n",
      "43182  23.990999       1.486206e+07            -0.211487          4.239344   \n",
      "43183  23.991554       1.487427e+07            -0.211456          4.239374   \n",
      "43184  23.992110       1.485901e+07            -0.211487          4.239404   \n",
      "43185  23.992666       1.485901e+07            -0.211487          4.239433   \n",
      "43186  23.993221       1.485596e+07            -0.211517          4.239463   \n",
      "43187  23.993777       1.486511e+07            -0.211487          4.239493   \n",
      "43188  23.994332       1.486816e+07            -0.211487          4.239522   \n",
      "43189  23.994888       1.488037e+07            -0.211395          4.239552   \n",
      "43190  23.995443       1.486816e+07            -0.211548          4.239582   \n",
      "43191  23.995999       1.486816e+07            -0.211548          4.239612   \n",
      "43192  23.996554       1.488342e+07            -0.211487          4.239642   \n",
      "43193  23.997110       1.485596e+07            -0.211517          4.239671   \n",
      "43194  23.997666       1.485596e+07            -0.211517          4.239701   \n",
      "43195  23.998221       1.487122e+07            -0.211426          4.239731   \n",
      "43196  23.998777       1.485901e+07            -0.211487          4.239760   \n",
      "43197  23.999332       1.486816e+07            -0.211517          4.239790   \n",
      "43198  23.999888       1.485901e+07            -0.211487          4.239820   \n",
      "43199  24.000443       1.486206e+07            -0.211548          4.239850   \n",
      "\n",
      "       WE(1).Power (W)  Index  \n",
      "0            -0.000437      1  \n",
      "1            -0.000410      2  \n",
      "2            -0.000392      3  \n",
      "3            -0.000379      4  \n",
      "4            -0.000369      5  \n",
      "5            -0.000361      6  \n",
      "6            -0.000353      7  \n",
      "7            -0.000348      8  \n",
      "8            -0.000342      9  \n",
      "9            -0.000338     10  \n",
      "10           -0.000333     11  \n",
      "11           -0.000329     12  \n",
      "12           -0.000325     13  \n",
      "13           -0.000322     14  \n",
      "14           -0.000318     15  \n",
      "15           -0.000315     16  \n",
      "16           -0.000312     17  \n",
      "17           -0.000309     18  \n",
      "18           -0.000307     19  \n",
      "19           -0.000304     20  \n",
      "20           -0.000302     21  \n",
      "21           -0.000299     22  \n",
      "22           -0.000296     23  \n",
      "23           -0.000294     24  \n",
      "24           -0.000292     25  \n",
      "25           -0.000290     26  \n",
      "26           -0.000288     27  \n",
      "27           -0.000286     28  \n",
      "28           -0.000284     29  \n",
      "29           -0.000282     30  \n",
      "...                ...    ...  \n",
      "43170        -0.000003  43171  \n",
      "43171        -0.000003  43172  \n",
      "43172        -0.000003  43173  \n",
      "43173        -0.000003  43174  \n",
      "43174        -0.000003  43175  \n",
      "43175        -0.000003  43176  \n",
      "43176        -0.000003  43177  \n",
      "43177        -0.000003  43178  \n",
      "43178        -0.000003  43179  \n",
      "43179        -0.000003  43180  \n",
      "43180        -0.000003  43181  \n",
      "43181        -0.000003  43182  \n",
      "43182        -0.000003  43183  \n",
      "43183        -0.000003  43184  \n",
      "43184        -0.000003  43185  \n",
      "43185        -0.000003  43186  \n",
      "43186        -0.000003  43187  \n",
      "43187        -0.000003  43188  \n",
      "43188        -0.000003  43189  \n",
      "43189        -0.000003  43190  \n",
      "43190        -0.000003  43191  \n",
      "43191        -0.000003  43192  \n",
      "43192        -0.000003  43193  \n",
      "43193        -0.000003  43194  \n",
      "43194        -0.000003  43195  \n",
      "43195        -0.000003  43196  \n",
      "43196        -0.000003  43197  \n",
      "43197        -0.000003  43198  \n",
      "43198        -0.000003  43199  \n",
      "43199        -0.000003  43200  \n",
      "\n",
      "[43200 rows x 6 columns]\n"
     ]
    },
    {
     "ename": "KeyError",
     "evalue": "'Time (min)'",
     "output_type": "error",
     "traceback": [
      "\u001b[1;31m---------------------------------------------------------------------------\u001b[0m",
      "\u001b[1;31mKeyError\u001b[0m                                  Traceback (most recent call last)",
      "\u001b[1;32mC:\\Programfiles\\Anaconda3\\lib\\site-packages\\pandas\\core\\indexes\\base.py\u001b[0m in \u001b[0;36mget_loc\u001b[1;34m(self, key, method, tolerance)\u001b[0m\n\u001b[0;32m   2441\u001b[0m             \u001b[1;32mtry\u001b[0m\u001b[1;33m:\u001b[0m\u001b[1;33m\u001b[0m\u001b[0m\n\u001b[1;32m-> 2442\u001b[1;33m                 \u001b[1;32mreturn\u001b[0m \u001b[0mself\u001b[0m\u001b[1;33m.\u001b[0m\u001b[0m_engine\u001b[0m\u001b[1;33m.\u001b[0m\u001b[0mget_loc\u001b[0m\u001b[1;33m(\u001b[0m\u001b[0mkey\u001b[0m\u001b[1;33m)\u001b[0m\u001b[1;33m\u001b[0m\u001b[0m\n\u001b[0m\u001b[0;32m   2443\u001b[0m             \u001b[1;32mexcept\u001b[0m \u001b[0mKeyError\u001b[0m\u001b[1;33m:\u001b[0m\u001b[1;33m\u001b[0m\u001b[0m\n",
      "\u001b[1;32mpandas\\_libs\\index.pyx\u001b[0m in \u001b[0;36mpandas._libs.index.IndexEngine.get_loc\u001b[1;34m()\u001b[0m\n",
      "\u001b[1;32mpandas\\_libs\\index.pyx\u001b[0m in \u001b[0;36mpandas._libs.index.IndexEngine.get_loc\u001b[1;34m()\u001b[0m\n",
      "\u001b[1;32mpandas\\_libs\\hashtable_class_helper.pxi\u001b[0m in \u001b[0;36mpandas._libs.hashtable.PyObjectHashTable.get_item\u001b[1;34m()\u001b[0m\n",
      "\u001b[1;32mpandas\\_libs\\hashtable_class_helper.pxi\u001b[0m in \u001b[0;36mpandas._libs.hashtable.PyObjectHashTable.get_item\u001b[1;34m()\u001b[0m\n",
      "\u001b[1;31mKeyError\u001b[0m: 'Time (min)'",
      "\nDuring handling of the above exception, another exception occurred:\n",
      "\u001b[1;31mKeyError\u001b[0m                                  Traceback (most recent call last)",
      "\u001b[1;32m<ipython-input-9-7c21a8f349bc>\u001b[0m in \u001b[0;36m<module>\u001b[1;34m()\u001b[0m\n\u001b[0;32m      3\u001b[0m \u001b[0mfirst\u001b[0m \u001b[1;33m=\u001b[0m \u001b[0mresulting_tables\u001b[0m\u001b[1;33m[\u001b[0m\u001b[1;34m'20230928_PFD_615_R_Carb_2_ZOA_carbonclothXcarboncloth_imbibition_unsealed_0-1M-NaCl_1st_cycle_with_gravimetry'\u001b[0m\u001b[1;33m]\u001b[0m\u001b[1;33m\u001b[0m\u001b[0m\n\u001b[0;32m      4\u001b[0m \u001b[0mprint\u001b[0m\u001b[1;33m(\u001b[0m\u001b[0mfirst\u001b[0m\u001b[1;33m)\u001b[0m\u001b[1;33m\u001b[0m\u001b[0m\n\u001b[1;32m----> 5\u001b[1;33m \u001b[0mfirst\u001b[0m\u001b[1;33m.\u001b[0m\u001b[0mplot\u001b[0m\u001b[1;33m(\u001b[0m\u001b[0mkind\u001b[0m \u001b[1;33m=\u001b[0m \u001b[1;34m\"line\"\u001b[0m\u001b[1;33m,\u001b[0m \u001b[0mx\u001b[0m \u001b[1;33m=\u001b[0m \u001b[1;34m\"Time (min)\"\u001b[0m\u001b[1;33m,\u001b[0m \u001b[0my\u001b[0m \u001b[1;33m=\u001b[0m \u001b[1;34m\"Current (micA)\"\u001b[0m\u001b[1;33m,\u001b[0m \u001b[0mlogy\u001b[0m \u001b[1;33m=\u001b[0m \u001b[1;32mTrue\u001b[0m\u001b[1;33m,\u001b[0m \u001b[0mlogx\u001b[0m \u001b[1;33m=\u001b[0m \u001b[1;32mTrue\u001b[0m\u001b[1;33m,\u001b[0m \u001b[1;33m)\u001b[0m\u001b[1;33m\u001b[0m\u001b[0m\n\u001b[0m\u001b[0;32m      6\u001b[0m \u001b[1;31m#panda plot in log scale\u001b[0m\u001b[1;33m\u001b[0m\u001b[1;33m\u001b[0m\u001b[0m\n\u001b[0;32m      7\u001b[0m \u001b[1;31m#keylist = resulting_tables.keys()\u001b[0m\u001b[1;33m\u001b[0m\u001b[1;33m\u001b[0m\u001b[0m\n",
      "\u001b[1;32mC:\\Programfiles\\Anaconda3\\lib\\site-packages\\pandas\\plotting\\_core.py\u001b[0m in \u001b[0;36m__call__\u001b[1;34m(self, x, y, kind, ax, subplots, sharex, sharey, layout, figsize, use_index, title, grid, legend, style, logx, logy, loglog, xticks, yticks, xlim, ylim, rot, fontsize, colormap, table, yerr, xerr, secondary_y, sort_columns, **kwds)\u001b[0m\n\u001b[0;32m   2625\u001b[0m                           \u001b[0mfontsize\u001b[0m\u001b[1;33m=\u001b[0m\u001b[0mfontsize\u001b[0m\u001b[1;33m,\u001b[0m \u001b[0mcolormap\u001b[0m\u001b[1;33m=\u001b[0m\u001b[0mcolormap\u001b[0m\u001b[1;33m,\u001b[0m \u001b[0mtable\u001b[0m\u001b[1;33m=\u001b[0m\u001b[0mtable\u001b[0m\u001b[1;33m,\u001b[0m\u001b[1;33m\u001b[0m\u001b[0m\n\u001b[0;32m   2626\u001b[0m                           \u001b[0myerr\u001b[0m\u001b[1;33m=\u001b[0m\u001b[0myerr\u001b[0m\u001b[1;33m,\u001b[0m \u001b[0mxerr\u001b[0m\u001b[1;33m=\u001b[0m\u001b[0mxerr\u001b[0m\u001b[1;33m,\u001b[0m \u001b[0msecondary_y\u001b[0m\u001b[1;33m=\u001b[0m\u001b[0msecondary_y\u001b[0m\u001b[1;33m,\u001b[0m\u001b[1;33m\u001b[0m\u001b[0m\n\u001b[1;32m-> 2627\u001b[1;33m                           sort_columns=sort_columns, **kwds)\n\u001b[0m\u001b[0;32m   2628\u001b[0m     \u001b[0m__call__\u001b[0m\u001b[1;33m.\u001b[0m\u001b[0m__doc__\u001b[0m \u001b[1;33m=\u001b[0m \u001b[0mplot_frame\u001b[0m\u001b[1;33m.\u001b[0m\u001b[0m__doc__\u001b[0m\u001b[1;33m\u001b[0m\u001b[0m\n\u001b[0;32m   2629\u001b[0m \u001b[1;33m\u001b[0m\u001b[0m\n",
      "\u001b[1;32mC:\\Programfiles\\Anaconda3\\lib\\site-packages\\pandas\\plotting\\_core.py\u001b[0m in \u001b[0;36mplot_frame\u001b[1;34m(data, x, y, kind, ax, subplots, sharex, sharey, layout, figsize, use_index, title, grid, legend, style, logx, logy, loglog, xticks, yticks, xlim, ylim, rot, fontsize, colormap, table, yerr, xerr, secondary_y, sort_columns, **kwds)\u001b[0m\n\u001b[0;32m   1867\u001b[0m                  \u001b[0myerr\u001b[0m\u001b[1;33m=\u001b[0m\u001b[0myerr\u001b[0m\u001b[1;33m,\u001b[0m \u001b[0mxerr\u001b[0m\u001b[1;33m=\u001b[0m\u001b[0mxerr\u001b[0m\u001b[1;33m,\u001b[0m\u001b[1;33m\u001b[0m\u001b[0m\n\u001b[0;32m   1868\u001b[0m                  \u001b[0msecondary_y\u001b[0m\u001b[1;33m=\u001b[0m\u001b[0msecondary_y\u001b[0m\u001b[1;33m,\u001b[0m \u001b[0msort_columns\u001b[0m\u001b[1;33m=\u001b[0m\u001b[0msort_columns\u001b[0m\u001b[1;33m,\u001b[0m\u001b[1;33m\u001b[0m\u001b[0m\n\u001b[1;32m-> 1869\u001b[1;33m                  **kwds)\n\u001b[0m\u001b[0;32m   1870\u001b[0m \u001b[1;33m\u001b[0m\u001b[0m\n\u001b[0;32m   1871\u001b[0m \u001b[1;33m\u001b[0m\u001b[0m\n",
      "\u001b[1;32mC:\\Programfiles\\Anaconda3\\lib\\site-packages\\pandas\\plotting\\_core.py\u001b[0m in \u001b[0;36m_plot\u001b[1;34m(data, x, y, subplots, ax, kind, **kwds)\u001b[0m\n\u001b[0;32m   1672\u001b[0m                 \u001b[1;32mif\u001b[0m \u001b[0mis_integer\u001b[0m\u001b[1;33m(\u001b[0m\u001b[0mx\u001b[0m\u001b[1;33m)\u001b[0m \u001b[1;32mand\u001b[0m \u001b[1;32mnot\u001b[0m \u001b[0mdata\u001b[0m\u001b[1;33m.\u001b[0m\u001b[0mcolumns\u001b[0m\u001b[1;33m.\u001b[0m\u001b[0mholds_integer\u001b[0m\u001b[1;33m(\u001b[0m\u001b[1;33m)\u001b[0m\u001b[1;33m:\u001b[0m\u001b[1;33m\u001b[0m\u001b[0m\n\u001b[0;32m   1673\u001b[0m                     \u001b[0mx\u001b[0m \u001b[1;33m=\u001b[0m \u001b[0mdata\u001b[0m\u001b[1;33m.\u001b[0m\u001b[0mcolumns\u001b[0m\u001b[1;33m[\u001b[0m\u001b[0mx\u001b[0m\u001b[1;33m]\u001b[0m\u001b[1;33m\u001b[0m\u001b[0m\n\u001b[1;32m-> 1674\u001b[1;33m                 \u001b[0mdata\u001b[0m \u001b[1;33m=\u001b[0m \u001b[0mdata\u001b[0m\u001b[1;33m.\u001b[0m\u001b[0mset_index\u001b[0m\u001b[1;33m(\u001b[0m\u001b[0mx\u001b[0m\u001b[1;33m)\u001b[0m\u001b[1;33m\u001b[0m\u001b[0m\n\u001b[0m\u001b[0;32m   1675\u001b[0m \u001b[1;33m\u001b[0m\u001b[0m\n\u001b[0;32m   1676\u001b[0m             \u001b[1;32mif\u001b[0m \u001b[0my\u001b[0m \u001b[1;32mis\u001b[0m \u001b[1;32mnot\u001b[0m \u001b[1;32mNone\u001b[0m\u001b[1;33m:\u001b[0m\u001b[1;33m\u001b[0m\u001b[0m\n",
      "\u001b[1;32mC:\\Programfiles\\Anaconda3\\lib\\site-packages\\pandas\\core\\frame.py\u001b[0m in \u001b[0;36mset_index\u001b[1;34m(self, keys, drop, append, inplace, verify_integrity)\u001b[0m\n\u001b[0;32m   2828\u001b[0m                 \u001b[0mnames\u001b[0m\u001b[1;33m.\u001b[0m\u001b[0mappend\u001b[0m\u001b[1;33m(\u001b[0m\u001b[1;32mNone\u001b[0m\u001b[1;33m)\u001b[0m\u001b[1;33m\u001b[0m\u001b[0m\n\u001b[0;32m   2829\u001b[0m             \u001b[1;32melse\u001b[0m\u001b[1;33m:\u001b[0m\u001b[1;33m\u001b[0m\u001b[0m\n\u001b[1;32m-> 2830\u001b[1;33m                 \u001b[0mlevel\u001b[0m \u001b[1;33m=\u001b[0m \u001b[0mframe\u001b[0m\u001b[1;33m[\u001b[0m\u001b[0mcol\u001b[0m\u001b[1;33m]\u001b[0m\u001b[1;33m.\u001b[0m\u001b[0m_values\u001b[0m\u001b[1;33m\u001b[0m\u001b[0m\n\u001b[0m\u001b[0;32m   2831\u001b[0m                 \u001b[0mnames\u001b[0m\u001b[1;33m.\u001b[0m\u001b[0mappend\u001b[0m\u001b[1;33m(\u001b[0m\u001b[0mcol\u001b[0m\u001b[1;33m)\u001b[0m\u001b[1;33m\u001b[0m\u001b[0m\n\u001b[0;32m   2832\u001b[0m                 \u001b[1;32mif\u001b[0m \u001b[0mdrop\u001b[0m\u001b[1;33m:\u001b[0m\u001b[1;33m\u001b[0m\u001b[0m\n",
      "\u001b[1;32mC:\\Programfiles\\Anaconda3\\lib\\site-packages\\pandas\\core\\frame.py\u001b[0m in \u001b[0;36m__getitem__\u001b[1;34m(self, key)\u001b[0m\n\u001b[0;32m   1962\u001b[0m             \u001b[1;32mreturn\u001b[0m \u001b[0mself\u001b[0m\u001b[1;33m.\u001b[0m\u001b[0m_getitem_multilevel\u001b[0m\u001b[1;33m(\u001b[0m\u001b[0mkey\u001b[0m\u001b[1;33m)\u001b[0m\u001b[1;33m\u001b[0m\u001b[0m\n\u001b[0;32m   1963\u001b[0m         \u001b[1;32melse\u001b[0m\u001b[1;33m:\u001b[0m\u001b[1;33m\u001b[0m\u001b[0m\n\u001b[1;32m-> 1964\u001b[1;33m             \u001b[1;32mreturn\u001b[0m \u001b[0mself\u001b[0m\u001b[1;33m.\u001b[0m\u001b[0m_getitem_column\u001b[0m\u001b[1;33m(\u001b[0m\u001b[0mkey\u001b[0m\u001b[1;33m)\u001b[0m\u001b[1;33m\u001b[0m\u001b[0m\n\u001b[0m\u001b[0;32m   1965\u001b[0m \u001b[1;33m\u001b[0m\u001b[0m\n\u001b[0;32m   1966\u001b[0m     \u001b[1;32mdef\u001b[0m \u001b[0m_getitem_column\u001b[0m\u001b[1;33m(\u001b[0m\u001b[0mself\u001b[0m\u001b[1;33m,\u001b[0m \u001b[0mkey\u001b[0m\u001b[1;33m)\u001b[0m\u001b[1;33m:\u001b[0m\u001b[1;33m\u001b[0m\u001b[0m\n",
      "\u001b[1;32mC:\\Programfiles\\Anaconda3\\lib\\site-packages\\pandas\\core\\frame.py\u001b[0m in \u001b[0;36m_getitem_column\u001b[1;34m(self, key)\u001b[0m\n\u001b[0;32m   1969\u001b[0m         \u001b[1;31m# get column\u001b[0m\u001b[1;33m\u001b[0m\u001b[1;33m\u001b[0m\u001b[0m\n\u001b[0;32m   1970\u001b[0m         \u001b[1;32mif\u001b[0m \u001b[0mself\u001b[0m\u001b[1;33m.\u001b[0m\u001b[0mcolumns\u001b[0m\u001b[1;33m.\u001b[0m\u001b[0mis_unique\u001b[0m\u001b[1;33m:\u001b[0m\u001b[1;33m\u001b[0m\u001b[0m\n\u001b[1;32m-> 1971\u001b[1;33m             \u001b[1;32mreturn\u001b[0m \u001b[0mself\u001b[0m\u001b[1;33m.\u001b[0m\u001b[0m_get_item_cache\u001b[0m\u001b[1;33m(\u001b[0m\u001b[0mkey\u001b[0m\u001b[1;33m)\u001b[0m\u001b[1;33m\u001b[0m\u001b[0m\n\u001b[0m\u001b[0;32m   1972\u001b[0m \u001b[1;33m\u001b[0m\u001b[0m\n\u001b[0;32m   1973\u001b[0m         \u001b[1;31m# duplicate columns & possible reduce dimensionality\u001b[0m\u001b[1;33m\u001b[0m\u001b[1;33m\u001b[0m\u001b[0m\n",
      "\u001b[1;32mC:\\Programfiles\\Anaconda3\\lib\\site-packages\\pandas\\core\\generic.py\u001b[0m in \u001b[0;36m_get_item_cache\u001b[1;34m(self, item)\u001b[0m\n\u001b[0;32m   1643\u001b[0m         \u001b[0mres\u001b[0m \u001b[1;33m=\u001b[0m \u001b[0mcache\u001b[0m\u001b[1;33m.\u001b[0m\u001b[0mget\u001b[0m\u001b[1;33m(\u001b[0m\u001b[0mitem\u001b[0m\u001b[1;33m)\u001b[0m\u001b[1;33m\u001b[0m\u001b[0m\n\u001b[0;32m   1644\u001b[0m         \u001b[1;32mif\u001b[0m \u001b[0mres\u001b[0m \u001b[1;32mis\u001b[0m \u001b[1;32mNone\u001b[0m\u001b[1;33m:\u001b[0m\u001b[1;33m\u001b[0m\u001b[0m\n\u001b[1;32m-> 1645\u001b[1;33m             \u001b[0mvalues\u001b[0m \u001b[1;33m=\u001b[0m \u001b[0mself\u001b[0m\u001b[1;33m.\u001b[0m\u001b[0m_data\u001b[0m\u001b[1;33m.\u001b[0m\u001b[0mget\u001b[0m\u001b[1;33m(\u001b[0m\u001b[0mitem\u001b[0m\u001b[1;33m)\u001b[0m\u001b[1;33m\u001b[0m\u001b[0m\n\u001b[0m\u001b[0;32m   1646\u001b[0m             \u001b[0mres\u001b[0m \u001b[1;33m=\u001b[0m \u001b[0mself\u001b[0m\u001b[1;33m.\u001b[0m\u001b[0m_box_item_values\u001b[0m\u001b[1;33m(\u001b[0m\u001b[0mitem\u001b[0m\u001b[1;33m,\u001b[0m \u001b[0mvalues\u001b[0m\u001b[1;33m)\u001b[0m\u001b[1;33m\u001b[0m\u001b[0m\n\u001b[0;32m   1647\u001b[0m             \u001b[0mcache\u001b[0m\u001b[1;33m[\u001b[0m\u001b[0mitem\u001b[0m\u001b[1;33m]\u001b[0m \u001b[1;33m=\u001b[0m \u001b[0mres\u001b[0m\u001b[1;33m\u001b[0m\u001b[0m\n",
      "\u001b[1;32mC:\\Programfiles\\Anaconda3\\lib\\site-packages\\pandas\\core\\internals.py\u001b[0m in \u001b[0;36mget\u001b[1;34m(self, item, fastpath)\u001b[0m\n\u001b[0;32m   3588\u001b[0m \u001b[1;33m\u001b[0m\u001b[0m\n\u001b[0;32m   3589\u001b[0m             \u001b[1;32mif\u001b[0m \u001b[1;32mnot\u001b[0m \u001b[0misnull\u001b[0m\u001b[1;33m(\u001b[0m\u001b[0mitem\u001b[0m\u001b[1;33m)\u001b[0m\u001b[1;33m:\u001b[0m\u001b[1;33m\u001b[0m\u001b[0m\n\u001b[1;32m-> 3590\u001b[1;33m                 \u001b[0mloc\u001b[0m \u001b[1;33m=\u001b[0m \u001b[0mself\u001b[0m\u001b[1;33m.\u001b[0m\u001b[0mitems\u001b[0m\u001b[1;33m.\u001b[0m\u001b[0mget_loc\u001b[0m\u001b[1;33m(\u001b[0m\u001b[0mitem\u001b[0m\u001b[1;33m)\u001b[0m\u001b[1;33m\u001b[0m\u001b[0m\n\u001b[0m\u001b[0;32m   3591\u001b[0m             \u001b[1;32melse\u001b[0m\u001b[1;33m:\u001b[0m\u001b[1;33m\u001b[0m\u001b[0m\n\u001b[0;32m   3592\u001b[0m                 \u001b[0mindexer\u001b[0m \u001b[1;33m=\u001b[0m \u001b[0mnp\u001b[0m\u001b[1;33m.\u001b[0m\u001b[0marange\u001b[0m\u001b[1;33m(\u001b[0m\u001b[0mlen\u001b[0m\u001b[1;33m(\u001b[0m\u001b[0mself\u001b[0m\u001b[1;33m.\u001b[0m\u001b[0mitems\u001b[0m\u001b[1;33m)\u001b[0m\u001b[1;33m)\u001b[0m\u001b[1;33m[\u001b[0m\u001b[0misnull\u001b[0m\u001b[1;33m(\u001b[0m\u001b[0mself\u001b[0m\u001b[1;33m.\u001b[0m\u001b[0mitems\u001b[0m\u001b[1;33m)\u001b[0m\u001b[1;33m]\u001b[0m\u001b[1;33m\u001b[0m\u001b[0m\n",
      "\u001b[1;32mC:\\Programfiles\\Anaconda3\\lib\\site-packages\\pandas\\core\\indexes\\base.py\u001b[0m in \u001b[0;36mget_loc\u001b[1;34m(self, key, method, tolerance)\u001b[0m\n\u001b[0;32m   2442\u001b[0m                 \u001b[1;32mreturn\u001b[0m \u001b[0mself\u001b[0m\u001b[1;33m.\u001b[0m\u001b[0m_engine\u001b[0m\u001b[1;33m.\u001b[0m\u001b[0mget_loc\u001b[0m\u001b[1;33m(\u001b[0m\u001b[0mkey\u001b[0m\u001b[1;33m)\u001b[0m\u001b[1;33m\u001b[0m\u001b[0m\n\u001b[0;32m   2443\u001b[0m             \u001b[1;32mexcept\u001b[0m \u001b[0mKeyError\u001b[0m\u001b[1;33m:\u001b[0m\u001b[1;33m\u001b[0m\u001b[0m\n\u001b[1;32m-> 2444\u001b[1;33m                 \u001b[1;32mreturn\u001b[0m \u001b[0mself\u001b[0m\u001b[1;33m.\u001b[0m\u001b[0m_engine\u001b[0m\u001b[1;33m.\u001b[0m\u001b[0mget_loc\u001b[0m\u001b[1;33m(\u001b[0m\u001b[0mself\u001b[0m\u001b[1;33m.\u001b[0m\u001b[0m_maybe_cast_indexer\u001b[0m\u001b[1;33m(\u001b[0m\u001b[0mkey\u001b[0m\u001b[1;33m)\u001b[0m\u001b[1;33m)\u001b[0m\u001b[1;33m\u001b[0m\u001b[0m\n\u001b[0m\u001b[0;32m   2445\u001b[0m \u001b[1;33m\u001b[0m\u001b[0m\n\u001b[0;32m   2446\u001b[0m         \u001b[0mindexer\u001b[0m \u001b[1;33m=\u001b[0m \u001b[0mself\u001b[0m\u001b[1;33m.\u001b[0m\u001b[0mget_indexer\u001b[0m\u001b[1;33m(\u001b[0m\u001b[1;33m[\u001b[0m\u001b[0mkey\u001b[0m\u001b[1;33m]\u001b[0m\u001b[1;33m,\u001b[0m \u001b[0mmethod\u001b[0m\u001b[1;33m=\u001b[0m\u001b[0mmethod\u001b[0m\u001b[1;33m,\u001b[0m \u001b[0mtolerance\u001b[0m\u001b[1;33m=\u001b[0m\u001b[0mtolerance\u001b[0m\u001b[1;33m)\u001b[0m\u001b[1;33m\u001b[0m\u001b[0m\n",
      "\u001b[1;32mpandas\\_libs\\index.pyx\u001b[0m in \u001b[0;36mpandas._libs.index.IndexEngine.get_loc\u001b[1;34m()\u001b[0m\n",
      "\u001b[1;32mpandas\\_libs\\index.pyx\u001b[0m in \u001b[0;36mpandas._libs.index.IndexEngine.get_loc\u001b[1;34m()\u001b[0m\n",
      "\u001b[1;32mpandas\\_libs\\hashtable_class_helper.pxi\u001b[0m in \u001b[0;36mpandas._libs.hashtable.PyObjectHashTable.get_item\u001b[1;34m()\u001b[0m\n",
      "\u001b[1;32mpandas\\_libs\\hashtable_class_helper.pxi\u001b[0m in \u001b[0;36mpandas._libs.hashtable.PyObjectHashTable.get_item\u001b[1;34m()\u001b[0m\n",
      "\u001b[1;31mKeyError\u001b[0m: 'Time (min)'"
     ]
    }
   ],
   "source": [
    "import matplotlib.pyplot as plt\n",
    "#for key, table in resulting_tables.items():\n",
    "first = resulting_tables['20230928_PFD_615_R_Carb_2_ZOA_carbonclothXcarboncloth_imbibition_unsealed_0-1M-NaCl_1st_cycle_with_gravimetry']\n",
    "print(first)\n",
    "first.plot(kind = \"line\", x = \"Time (min)\", y = \"Current (micA)\", logy = True, logx = True, )\n",
    "#panda plot in log scale\n",
    "#keylist = resulting_tables.keys()\n",
    "print(keylist)\n",
    "# y = \"Current (micA)\",\n",
    "plt.show()"
   ]
  },
  {
   "cell_type": "code",
   "execution_count": 7,
   "metadata": {},
   "outputs": [
    {
     "data": {
      "text/plain": [
       "<matplotlib.axes._subplots.AxesSubplot at 0x182d0471898>"
      ]
     },
     "execution_count": 7,
     "metadata": {},
     "output_type": "execute_result"
    }
   ],
   "source": [
    "plot = table.plot(kind = \"line\", x = \"Time (min)\", y = \"Current (micA)\")\n",
    "plot"
   ]
  },
  {
   "cell_type": "code",
   "execution_count": null,
   "metadata": {
    "collapsed": true
   },
   "outputs": [],
   "source": []
  }
 ],
 "metadata": {
  "kernelspec": {
   "display_name": "Python 3",
   "language": "python",
   "name": "python3"
  },
  "language_info": {
   "codemirror_mode": {
    "name": "ipython",
    "version": 3
   },
   "file_extension": ".py",
   "mimetype": "text/x-python",
   "name": "python",
   "nbconvert_exporter": "python",
   "pygments_lexer": "ipython3",
   "version": "3.6.2"
  }
 },
 "nbformat": 4,
 "nbformat_minor": 5
}
