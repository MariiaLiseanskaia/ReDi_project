{
 "cells": [
  {
   "cell_type": "code",
   "execution_count": 13,
   "id": "2e32b818-d59e-4b47-b0f5-5915a99a5db0",
   "metadata": {
    "tags": []
   },
   "outputs": [
    {
     "name": "stdin",
     "output_type": "stream",
     "text": [
      "enter the search parameter: winauth\n"
     ]
    },
    {
     "name": "stdout",
     "output_type": "stream",
     "text": [
      "Files containing the keyword 'winauth':\n",
      "winauth-2019-03-06.txt\n",
      "winauth-2022-08-25.txt\n"
     ]
    }
   ],
   "source": [
    "import os\n",
    "\n",
    "def search_files_by_keyword(directory, keyword, file_format):\n",
    "    # Get the list of files in the specified directory\n",
    "    file_names = os.listdir(directory)\n",
    "    # Search for the keyword in each file name\n",
    "    matching_files = [file for file in file_names if keyword in file and file.endswith(file_format)\n",
    "\n",
    "    return matching_files\n",
    "\n",
    "# Example usage\n",
    "directory_path = '/mnt/d/101domain'\n",
    "search_keyword = input('enter the search parameter:')\n",
    "desired_format = '.txt'  # Specify the desired file format, e.g., '.txt', '.pdf', '.jpg'\n",
    "                      \n",
    "matching_files = search_files_by_keyword_and_format(directory_path, search_keyword, desired_format)\n",
    "\n",
    "if matching_files:\n",
    "    print(f\"Files containing the keyword '{search_keyword}' with format '{desired_format}':\")\n",
    "    for file in matching_files:\n",
    "        print(file)\n",
    "else:\n",
    "    print(f\"No files found with the keyword '{search_keyword}' and format '{desired_format}'.\")"
   ]
  },
  {
   "cell_type": "code",
   "execution_count": null,
   "id": "9a5a9fde-84a5-4a0f-a711-abb331f10d36",
   "metadata": {},
   "outputs": [],
   "source": [
    "import os\n",
    "\n",
    "def search_files_by_keyword_and_format(directory, keyword, file_format):\n",
    "    # Get the list of files in the specified directory\n",
    "    file_names = os.listdir(directory)\n",
    "\n",
    "    # Search for the keyword and specific file format in each file name\n",
    "    matching_files = [file for file in file_names if keyword in file and file.endswith(file_format)]\n",
    "\n",
    "    return matching_files\n",
    "\n",
    "# Example usage\n",
    "directory_path = '/path/to/your/directory'\n",
    "search_keyword = 'example'\n",
    "desired_format = '.txt'  # Specify the desired file format, e.g., '.txt', '.pdf', '.jpg'\n",
    "\n",
    "matching_files = search_files_by_keyword_and_format(directory_path, search_keyword, desired_format)\n",
    "\n",
    "if matching_files:\n",
    "    print(f\"Files containing the keyword '{search_keyword}' with format '{desired_format}':\")\n",
    "    for file in matching_files:\n",
    "        print(file)\n",
    "else:\n",
    "    print(f\"No files found with the keyword '{search_keyword}' and format '{desired_format}'.\")\n"
   ]
  }
 ],
 "metadata": {
  "kernelspec": {
   "display_name": "Python 3 (ipykernel)",
   "language": "python",
   "name": "python3"
  },
  "language_info": {
   "codemirror_mode": {
    "name": "ipython",
    "version": 3
   },
   "file_extension": ".py",
   "mimetype": "text/x-python",
   "name": "python",
   "nbconvert_exporter": "python",
   "pygments_lexer": "ipython3",
   "version": "3.11.3"
  }
 },
 "nbformat": 4,
 "nbformat_minor": 5
}
